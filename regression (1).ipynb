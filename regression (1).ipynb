{
 "cells": [
  {
   "cell_type": "markdown",
   "id": "369014ac",
   "metadata": {
    "papermill": {
     "duration": 0.005155,
     "end_time": "2024-03-08T16:53:44.118154",
     "exception": false,
     "start_time": "2024-03-08T16:53:44.112999",
     "status": "completed"
    },
    "tags": []
   },
   "source": [
    "<div style=\"max-width: 600px; margin: 50px auto; padding: 20px; background-color: #f8f8f8; border-radius: 10px; box-shadow: 0 0 10px rgba(0, 0, 0, 0.1);\">\n",
    "    <h1 style=\"color: #009688; text-align: center;\">Welcome INVENTORS!</h1>\n",
    "    <p style=\"color: #333; text-align: justify;\">Welcome to our workshop on Supervised Machine Learning! In this session, we'll delve into the captivating realm of predictive analytics using various techniques within supervised learning. Supervised learning involves training a model on a labeled dataset, where each input is associated with an output, to learn a mapping between the input and output variables. Throughout this workshop, we'll explore algorithms such as linear regression, decision trees, support vector machines, and neural networks, among others. We'll learn how to build, evaluate, and deploy supervised learning models to tackle real-world problems, enabling you to harness the power of data-driven insights for impactful decision-making. Get ready to embark on an exhilarating journey into the exciting field of supervised machine learning! &#128640;</p>\n",
    "</div>\n"
   ]
  },
  {
   "cell_type": "markdown",
   "id": "ed86a2d1",
   "metadata": {
    "papermill": {
     "duration": 0.004141,
     "end_time": "2024-03-08T16:53:44.127140",
     "exception": false,
     "start_time": "2024-03-08T16:53:44.122999",
     "status": "completed"
    },
    "tags": []
   },
   "source": [
    "# 📈 **Linear Regression**"
   ]
  },
  {
   "cell_type": "markdown",
   "id": "14289cc6",
   "metadata": {
    "papermill": {
     "duration": 0.00412,
     "end_time": "2024-03-08T16:53:44.135617",
     "exception": false,
     "start_time": "2024-03-08T16:53:44.131497",
     "status": "completed"
    },
    "tags": []
   },
   "source": [
    "\n",
    "<a target=\"_blank\"><img src=\"https://media.geeksforgeeks.org/wp-content/uploads/20231123123151/ezgif-1-ba0c9540c5.gif\" border=\"0\" /></a>"
   ]
  },
  {
   "cell_type": "markdown",
   "id": "1037a634",
   "metadata": {
    "papermill": {
     "duration": 0.004078,
     "end_time": "2024-03-08T16:53:44.144021",
     "exception": false,
     "start_time": "2024-03-08T16:53:44.139943",
     "status": "completed"
    },
    "tags": []
   },
   "source": [
    "<p>Linear regression analysis is used to predict the value of a variable based on the value of another variable. The variable you want to predict is called the dependent variable. The variable you are using to predict the other variable's value is called the independent variable.</p>"
   ]
  },
  {
   "cell_type": "markdown",
   "id": "765ee248",
   "metadata": {
    "papermill": {
     "duration": 0.004084,
     "end_time": "2024-03-08T16:53:44.152363",
     "exception": false,
     "start_time": "2024-03-08T16:53:44.148279",
     "status": "completed"
    },
    "tags": []
   },
   "source": [
    "**In Machine Learning and this notebook we use Pandas a lot.**\n",
    "\n",
    "<a target=\"_blank\"><img src=\"https://imgs.search.brave.com/Nc6gXRnXrvfoFmjyGoBVq-UocGRxFQgCG68HN3aeL2g/rs:fit:500:0:0/g:ce/aHR0cHM6Ly9kYXRh/c2NpZW50ZXN0LmNv/bS9lbi93cC1jb250/ZW50L3VwbG9hZHMv/c2l0ZXMvOS8yMDIy/LzAxL2lsbHVfcGFu/ZGFzLTgyLTEwMjR4/NTYyLnBuZw\" border=\"0\"  style=\"width: 350px;\"/></a>\n",
    "\n",
    "### **What is pandas used for?**\n",
    "\n",
    "Pandas is a powerful and versatile library for data manipulation and analysis in Python. It offers a wide range of data structures and functions for working with structured data, making it an essential tool for data scientists and analysts. With Pandas, you can easily load, manipulate, and analyze data from various sources such as CSV files, Excel spreadsheets, SQL databases, and more. Its intuitive and expressive API allows for tasks like data cleaning, transformation, aggregation, and visualization. Pandas is particularly well-suited for tasks like data exploration, data preprocessing, and feature engineering in preparation for machine learning tasks. Overall, Pandas provides a flexible and efficient toolkit for working with tabular and time-series data in Python."
   ]
  },
  {
   "cell_type": "markdown",
   "id": "3e4f8a8d",
   "metadata": {
    "papermill": {
     "duration": 0.004057,
     "end_time": "2024-03-08T16:53:44.160797",
     "exception": false,
     "start_time": "2024-03-08T16:53:44.156740",
     "status": "completed"
    },
    "tags": []
   },
   "source": [
    "<a target=\"_blank\"><img src=\"https://imgs.search.brave.com/Ei5DQ8GPJjp2JmG9MMd2kGN7DmHCtiLOW3Wz3VndHOk/rs:fit:500:0:0/g:ce/aHR0cHM6Ly91cGxv/YWQud2lraW1lZGlh/Lm9yZy93aWtpcGVk/aWEvY29tbW9ucy8z/LzMxL051bVB5X2xv/Z29fMjAyMC5zdmc.svg\" border=\"0\" style=\"width: 350px;\"></a>\n",
    "\n",
    "\n",
    "### **What is numpy used for?**\n",
    "\n",
    "NumPy is a fundamental library for scientific computing in Python, providing support for multidimensional arrays and matrices along with a collection of mathematical functions to operate on these arrays efficiently. It serves as the foundation for many other libraries in the Python ecosystem, enabling high-performance numerical computations. With NumPy, you can perform array manipulation, mathematical operations, linear algebra, random number generation, and more. Its array-oriented computing capabilities make it essential for tasks such as data analysis, machine learning, signal processing, and image processing. NumPy's concise syntax and optimized performance make it the go-to choice for handling large datasets and complex mathematical operations in Python.\n"
   ]
  },
  {
   "cell_type": "code",
   "execution_count": 1,
   "id": "25118d4e",
   "metadata": {
    "execution": {
     "iopub.execute_input": "2024-03-08T16:53:44.171722Z",
     "iopub.status.busy": "2024-03-08T16:53:44.170849Z",
     "iopub.status.idle": "2024-03-08T16:53:45.008231Z",
     "shell.execute_reply": "2024-03-08T16:53:45.007107Z"
    },
    "papermill": {
     "duration": 0.84631,
     "end_time": "2024-03-08T16:53:45.011348",
     "exception": false,
     "start_time": "2024-03-08T16:53:44.165038",
     "status": "completed"
    },
    "tags": []
   },
   "outputs": [],
   "source": [
    "import numpy as np\n",
    "import pandas as pd"
   ]
  },
  {
   "cell_type": "markdown",
   "id": "53a2a6d8",
   "metadata": {
    "papermill": {
     "duration": 0.004381,
     "end_time": "2024-03-08T16:53:45.021317",
     "exception": false,
     "start_time": "2024-03-08T16:53:45.016936",
     "status": "completed"
    },
    "tags": []
   },
   "source": [
    "<a target=\"_blank\"><img src=\"https://s4.uupload.ir/files/download_(1)_slz6.png\" border=\"0\" style=\"width: 350px;\" /></a>\n",
    "\n",
    "### **What is scikit-learn used for?**\n",
    "\n",
    "Scikit-learn (Sklearn) is the most useful and robust library for machine learning in Python. It provides a selection of efficient tools for machine learning and statistical modeling including classification, regression, clustering and dimensionality reduction via a consistence interface in Python."
   ]
  },
  {
   "cell_type": "markdown",
   "id": "50debc2e",
   "metadata": {
    "papermill": {
     "duration": 0.004354,
     "end_time": "2024-03-08T16:53:45.030241",
     "exception": false,
     "start_time": "2024-03-08T16:53:45.025887",
     "status": "completed"
    },
    "tags": []
   },
   "source": [
    "<p>The code snippet imports necessary modules from scikit-learn library for <code>LinearRegression</code> for creating linear regression models and many other models, <code>train_test_split</code> for splitting the dataset into training and testing sets, and <code>mean squared error</code> and <code> r2score </code> for evaluating model accuracy then imports necessary modules from the scikit-learn library for <code> SimpleImputer</code> for handling missing values in datasets.</p>\n",
    "\n"
   ]
  },
  {
   "cell_type": "code",
   "execution_count": 2,
   "id": "860ec77f",
   "metadata": {
    "execution": {
     "iopub.execute_input": "2024-03-08T16:53:45.041160Z",
     "iopub.status.busy": "2024-03-08T16:53:45.040697Z",
     "iopub.status.idle": "2024-03-08T16:53:46.478637Z",
     "shell.execute_reply": "2024-03-08T16:53:46.477782Z"
    },
    "papermill": {
     "duration": 1.446143,
     "end_time": "2024-03-08T16:53:46.481101",
     "exception": false,
     "start_time": "2024-03-08T16:53:45.034958",
     "status": "completed"
    },
    "tags": []
   },
   "outputs": [],
   "source": [
    "from sklearn.linear_model import LinearRegression\n",
    "from sklearn.model_selection import train_test_split\n",
    "\n",
    "from sklearn.metrics import mean_squared_error, r2_score\n",
    "from sklearn.impute import SimpleImputer"
   ]
  },
  {
   "cell_type": "markdown",
   "id": "95c5fc8b",
   "metadata": {
    "papermill": {
     "duration": 0.004228,
     "end_time": "2024-03-08T16:53:46.490087",
     "exception": false,
     "start_time": "2024-03-08T16:53:46.485859",
     "status": "completed"
    },
    "tags": []
   },
   "source": [
    "<p>The code snippet loads CSV file, 'train.csv', using pandas' <code>read_csv()</code> function from the specified paths.</p>\n",
    "\n",
    "<p>\n",
    "<code>pd.get_dummies(df_1)</code> is using the <code>get_dummies()</code> function from the Pandas library in Python to convert categorical variables into  numerical representations of categorical data. This allows handling categorical data effectively. The resulting DataFrame, will contain the original columns from <code> df_1</code>, but with categorical columns replaced by their dummy variable representations.    \n",
    "</p>\n",
    "<p> \n",
    " <code>df.iloc[:, :-1].values </code> This selects all rows and all columns except the last one from the DataFrame df. The .iloc accessor is used to select data by position (integer index). [:, :-1] specifies all rows (:) and all columns up to the last one (:-1). \n",
    "<code>.values </code> returns the values as a NumPy array.\n",
    "\n",
    "<code>df['SalePrice']</code> This selects the column named 'SalePrice' from the DataFrame df. It retrieves the target variable values and assigns them to the variable y.\n",
    "</p>\n"
   ]
  },
  {
   "cell_type": "code",
   "execution_count": 3,
   "id": "7f185e1a",
   "metadata": {
    "execution": {
     "iopub.execute_input": "2024-03-08T16:53:46.501308Z",
     "iopub.status.busy": "2024-03-08T16:53:46.500291Z",
     "iopub.status.idle": "2024-03-08T16:53:46.685688Z",
     "shell.execute_reply": "2024-03-08T16:53:46.684543Z"
    },
    "papermill": {
     "duration": 0.193551,
     "end_time": "2024-03-08T16:53:46.688197",
     "exception": false,
     "start_time": "2024-03-08T16:53:46.494646",
     "status": "completed"
    },
    "tags": []
   },
   "outputs": [],
   "source": [
    "df_1 = pd.read_csv('/kaggle/input/house-prices-advanced-regression-techniques/train.csv')\n",
    "df = pd.get_dummies(df_1)\n",
    "\n",
    "x = df.iloc[:, :-1].values\n",
    "y=df['SalePrice']\n",
    "X_train, X_test, y_train, y_test = train_test_split(x, y, test_size=0.2, random_state=42)"
   ]
  },
  {
   "cell_type": "markdown",
   "id": "3f269bd6",
   "metadata": {
    "papermill": {
     "duration": 0.004411,
     "end_time": "2024-03-08T16:53:46.697343",
     "exception": false,
     "start_time": "2024-03-08T16:53:46.692932",
     "status": "completed"
    },
    "tags": []
   },
   "source": [
    "<p>The code calculates the number of null values in each column of the DataFrame <code>df </code>and prints the result.</p>"
   ]
  },
  {
   "cell_type": "code",
   "execution_count": 4,
   "id": "65b8a40b",
   "metadata": {
    "execution": {
     "iopub.execute_input": "2024-03-08T16:53:46.708211Z",
     "iopub.status.busy": "2024-03-08T16:53:46.707859Z",
     "iopub.status.idle": "2024-03-08T16:53:46.719631Z",
     "shell.execute_reply": "2024-03-08T16:53:46.717573Z"
    },
    "papermill": {
     "duration": 0.019835,
     "end_time": "2024-03-08T16:53:46.721845",
     "exception": false,
     "start_time": "2024-03-08T16:53:46.702010",
     "status": "completed"
    },
    "tags": []
   },
   "outputs": [
    {
     "name": "stdout",
     "output_type": "stream",
     "text": [
      "Id                         0\n",
      "MSSubClass                 0\n",
      "LotFrontage              259\n",
      "LotArea                    0\n",
      "OverallQual                0\n",
      "                        ... \n",
      "SaleCondition_AdjLand      0\n",
      "SaleCondition_Alloca       0\n",
      "SaleCondition_Family       0\n",
      "SaleCondition_Normal       0\n",
      "SaleCondition_Partial      0\n",
      "Length: 289, dtype: int64\n"
     ]
    }
   ],
   "source": [
    "null_counts = df.isnull().sum()\n",
    "print(null_counts)"
   ]
  },
  {
   "cell_type": "markdown",
   "id": "044c0815",
   "metadata": {
    "papermill": {
     "duration": 0.004534,
     "end_time": "2024-03-08T16:53:46.731133",
     "exception": false,
     "start_time": "2024-03-08T16:53:46.726599",
     "status": "completed"
    },
    "tags": []
   },
   "source": [
    "<p>The provided code snippet demonstrates the usage of scikit-learn's <code>SimpleImputer</code> to handle missing values in a dataset. </p>\n",
    "<p>It initializes an imputer object with a specified strategy for imputation, such as replacing missing values with the mean. Then, it fits the imputer to the training data <code>X_train</code> and transforms both the training and testing data <code>X_test</code> to replace missing values with the computed mean from the training data. </p>\n",
    "<p>This process ensures that the imputation strategy learned from the training set is applied consistently to both training and testing data, thereby handling missing values effectively across the dataset.<p>"
   ]
  },
  {
   "cell_type": "code",
   "execution_count": 5,
   "id": "db650404",
   "metadata": {
    "execution": {
     "iopub.execute_input": "2024-03-08T16:53:46.742899Z",
     "iopub.status.busy": "2024-03-08T16:53:46.742524Z",
     "iopub.status.idle": "2024-03-08T16:53:46.794416Z",
     "shell.execute_reply": "2024-03-08T16:53:46.793129Z"
    },
    "papermill": {
     "duration": 0.061179,
     "end_time": "2024-03-08T16:53:46.796982",
     "exception": false,
     "start_time": "2024-03-08T16:53:46.735803",
     "status": "completed"
    },
    "tags": []
   },
   "outputs": [],
   "source": [
    "#imputer = SimpleImputer(strategy='most_frequent')\n",
    "imputer = SimpleImputer(strategy='mean')\n",
    "X_train_imputed = imputer.fit_transform(X_train)\n",
    "X_test_imputed = imputer.transform(X_test)"
   ]
  },
  {
   "cell_type": "markdown",
   "id": "2a726287",
   "metadata": {
    "papermill": {
     "duration": 0.004416,
     "end_time": "2024-03-08T16:53:46.806272",
     "exception": false,
     "start_time": "2024-03-08T16:53:46.801856",
     "status": "completed"
    },
    "tags": []
   },
   "source": [
    "<p>The provided code snippet trains a linear regression model using the imputed training data <code>X_train_imputed</code> and corresponding target values <code> y_train</code>, then predicts the target variable values for the imputed testing data <code> X_test_imputed</code> using the trained model</p>"
   ]
  },
  {
   "cell_type": "code",
   "execution_count": 6,
   "id": "a8566268",
   "metadata": {
    "execution": {
     "iopub.execute_input": "2024-03-08T16:53:46.817128Z",
     "iopub.status.busy": "2024-03-08T16:53:46.816754Z",
     "iopub.status.idle": "2024-03-08T16:53:46.889101Z",
     "shell.execute_reply": "2024-03-08T16:53:46.887695Z"
    },
    "papermill": {
     "duration": 0.082027,
     "end_time": "2024-03-08T16:53:46.892827",
     "exception": false,
     "start_time": "2024-03-08T16:53:46.810800",
     "status": "completed"
    },
    "tags": []
   },
   "outputs": [],
   "source": [
    "model = LinearRegression()\n",
    "model.fit(X_train_imputed, y_train)\n",
    "\n",
    "y_pred = model.predict(X_test_imputed)"
   ]
  },
  {
   "cell_type": "markdown",
   "id": "dc69faee",
   "metadata": {
    "papermill": {
     "duration": 0.016117,
     "end_time": "2024-03-08T16:53:46.918094",
     "exception": false,
     "start_time": "2024-03-08T16:53:46.901977",
     "status": "completed"
    },
    "tags": []
   },
   "source": [
    "<p>The provided code snippet calculates the mean squared error (MSE) and the coefficient of determination (R-squared) score between the predicted target values <code> y_pred </code> and the actual target values <code> y_test </code>. Then, it prints out both the MSE and R-squared score to evaluate the performance of the linear regression model. </p>"
   ]
  },
  {
   "cell_type": "code",
   "execution_count": 7,
   "id": "94b4f3a6",
   "metadata": {
    "execution": {
     "iopub.execute_input": "2024-03-08T16:53:46.953463Z",
     "iopub.status.busy": "2024-03-08T16:53:46.952797Z",
     "iopub.status.idle": "2024-03-08T16:53:46.961931Z",
     "shell.execute_reply": "2024-03-08T16:53:46.960664Z"
    },
    "papermill": {
     "duration": 0.035227,
     "end_time": "2024-03-08T16:53:46.964543",
     "exception": false,
     "start_time": "2024-03-08T16:53:46.929316",
     "status": "completed"
    },
    "tags": []
   },
   "outputs": [
    {
     "name": "stdout",
     "output_type": "stream",
     "text": [
      "Mean Squared Error: 2.19273116022413e-20\n",
      "Rsquared (R^2 Score): 1.0\n"
     ]
    }
   ],
   "source": [
    "mse = mean_squared_error(y_test, y_pred)\n",
    "Rsquared = r2_score(y_test, y_pred)\n",
    "\n",
    "print(\"Mean Squared Error:\", mse)\n",
    "print(\"Rsquared (R^2 Score):\", Rsquared)"
   ]
  },
  {
   "cell_type": "code",
   "execution_count": null,
   "id": "78cbaa33",
   "metadata": {
    "papermill": {
     "duration": 0.010475,
     "end_time": "2024-03-08T16:53:46.989366",
     "exception": false,
     "start_time": "2024-03-08T16:53:46.978891",
     "status": "completed"
    },
    "tags": []
   },
   "outputs": [],
   "source": []
  }
 ],
 "metadata": {
  "kaggle": {
   "accelerator": "none",
   "dataSources": [
    {
     "databundleVersionId": 868283,
     "sourceId": 5407,
     "sourceType": "competition"
    }
   ],
   "dockerImageVersionId": 30646,
   "isGpuEnabled": false,
   "isInternetEnabled": true,
   "language": "python",
   "sourceType": "notebook"
  },
  "kernelspec": {
   "display_name": "Python 3",
   "language": "python",
   "name": "python3"
  },
  "language_info": {
   "codemirror_mode": {
    "name": "ipython",
    "version": 3
   },
   "file_extension": ".py",
   "mimetype": "text/x-python",
   "name": "python",
   "nbconvert_exporter": "python",
   "pygments_lexer": "ipython3",
   "version": "3.10.13"
  },
  "papermill": {
   "default_parameters": {},
   "duration": 6.218385,
   "end_time": "2024-03-08T16:53:47.618369",
   "environment_variables": {},
   "exception": null,
   "input_path": "__notebook__.ipynb",
   "output_path": "__notebook__.ipynb",
   "parameters": {},
   "start_time": "2024-03-08T16:53:41.399984",
   "version": "2.5.0"
  }
 },
 "nbformat": 4,
 "nbformat_minor": 5
}
